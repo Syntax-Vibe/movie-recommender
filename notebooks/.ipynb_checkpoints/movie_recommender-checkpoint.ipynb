{
 "cells": [
  {
   "cell_type": "code",
   "execution_count": null,
   "id": "e08a0ef3",
   "metadata": {
    "vscode": {
     "languageId": "plaintext"
    }
   },
   "outputs": [],
   "source": [
    "# Import necessary libraries\n",
    "import pandas as pd\n",
    "import numpy as np\n",
    "from sklearn.metrics.pairwise import cosine_similarity\n",
    "\n",
    "# Load ratings data\n",
    "ratings = pd.read_csv('../data/u.data', sep='\\t', header=None,\n",
    "                      names=['user_id', 'movie_id', 'rating', 'timestamp'])\n",
    "\n",
    "# Load movie titles\n",
    "movies = pd.read_csv('../data/u.item', sep='|', encoding='latin-1', header=None,\n",
    "                     names=['movie_id', 'movie_title'], usecols=[0, 1])\n",
    "\n",
    "# Merge the ratings with movie titles\n",
    "data = pd.merge(ratings, movies, on='movie_id')\n",
    "\n",
    "# Create user-movie matrix\n",
    "user_movie_matrix = data.pivot_table(index='user_id', columns='movie_title', values='rating')\n",
    "\n",
    "# Compute cosine similarity between users\n",
    "user_similarity = cosine_similarity(user_movie_matrix.fillna(0))\n",
    "\n",
    "# Convert to DataFrame for readability\n",
    "user_similarity_df = pd.DataFrame(user_similarity, index=user_movie_matrix.index, columns=user_movie_matrix.index)\n",
    "\n",
    "# Define prediction function\n",
    "def predict_rating(user_id, movie_title):\n",
    "    if movie_title not in user_movie_matrix.columns:\n",
    "        return \"Movie not found.\"\n",
    "\n",
    "    sim_scores = user_similarity_df[user_id]\n",
    "    movie_ratings = user_movie_matrix[movie_title]\n",
    "\n",
    "    # Filter out users who haven't rated the movie\n",
    "    valid = movie_ratings.notna()\n",
    "    sim_scores = sim_scores[valid]\n",
    "    movie_ratings = movie_ratings[valid]\n",
    "\n",
    "    if len(sim_scores) == 0:\n",
    "        return \"Not enough data to predict.\"\n",
    "\n",
    "    # Calculate weighted average\n",
    "    prediction = np.dot(sim_scores, movie_ratings) / sim_scores.sum()\n",
    "    return round(prediction, 2)\n",
    "\n",
    "# Test prediction\n",
    "print(predict_rating(user_id=10, movie_title=\"Star Wars (1977)\"))\n"
   ]
  }
 ],
 "metadata": {
  "language_info": {
   "name": "python"
  }
 },
 "nbformat": 4,
 "nbformat_minor": 5
}
